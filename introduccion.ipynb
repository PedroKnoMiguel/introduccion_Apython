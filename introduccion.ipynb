{
 "cells": [
  {
   "cell_type": "markdown",
   "metadata": {},
   "source": [
    "# INTRODUCCIÓN A PYTHON 12/08/2024"
   ]
  },
  {
   "cell_type": "code",
   "execution_count": 1,
   "metadata": {},
   "outputs": [
    {
     "name": "stdout",
     "output_type": "stream",
     "text": [
      "Hola mundo\n"
     ]
    }
   ],
   "source": [
    "print('Hola mundo') ## imprime el mensaje "
   ]
  },
  {
   "cell_type": "code",
   "execution_count": 2,
   "metadata": {},
   "outputs": [
    {
     "name": "stdout",
     "output_type": "stream",
     "text": [
      "valor 5+5\n",
      "El valor es de:14.0\n",
      "10\n"
     ]
    }
   ],
   "source": [
    "5+5\n",
    "print('valor 5+5')\n",
    "print(f'El valor es de:{5*(2.5+3.1)/2}')\n",
    "x = 5*2\n",
    "print(x)"
   ]
  },
  {
   "cell_type": "markdown",
   "metadata": {},
   "source": [
    "# OTRAS OPERACIONES "
   ]
  },
  {
   "cell_type": "code",
   "execution_count": 4,
   "metadata": {},
   "outputs": [
    {
     "name": "stdout",
     "output_type": "stream",
     "text": [
      "8.0\n",
      "El valor de la variable B es gual:8.0\n"
     ]
    }
   ],
   "source": [
    "2**3\n",
    "B = (2**3+4**2)/3\n",
    "print(B)\n",
    "print(f'El valor de la variable B es gual:{B}')\n"
   ]
  },
  {
   "cell_type": "markdown",
   "metadata": {},
   "source": [
    "# GUARDAR TEXTO EN VARIABLES \n"
   ]
  },
  {
   "cell_type": "code",
   "execution_count": 7,
   "metadata": {},
   "outputs": [
    {
     "name": "stdout",
     "output_type": "stream",
     "text": [
      "casa amarillo\n"
     ]
    }
   ],
   "source": [
    "x = 'casa'\n",
    "y = 'amarillo'\n",
    "e = ' '\n",
    "z = x+e+y\n",
    "print(z)\n"
   ]
  },
  {
   "cell_type": "markdown",
   "metadata": {},
   "source": [
    "# INGRESO DE VALORES POR TECLADO "
   ]
  },
  {
   "cell_type": "code",
   "execution_count": 2,
   "metadata": {},
   "outputs": [
    {
     "name": "stdout",
     "output_type": "stream",
     "text": [
      "<class 'float'>\n",
      "13.517299704613635\n"
     ]
    }
   ],
   "source": [
    "x = float(input('ingrese valor'))\n",
    "g = 3.9\n",
    "z = ((x**2)+(g**2))/(x)**(1/2)\n",
    "print(type(g))\n",
    "print(z)"
   ]
  },
  {
   "cell_type": "code",
   "execution_count": 6,
   "metadata": {},
   "outputs": [
    {
     "name": "stdout",
     "output_type": "stream",
     "text": [
      "['a', 'c']\n"
     ]
    }
   ],
   "source": [
    "x = ['a','b','c','d']\n",
    "x.pop(-1) # elimina el primer elemento de derecha a izquierda\n",
    "x.remove('b') # remueve el elemento puesto en remove \n",
    "print(x)"
   ]
  },
  {
   "cell_type": "markdown",
   "metadata": {},
   "source": [
    "# ESTRUCTURAS DE CONTROL "
   ]
  },
  {
   "cell_type": "code",
   "execution_count": 7,
   "metadata": {},
   "outputs": [
    {
     "name": "stdout",
     "output_type": "stream",
     "text": [
      "0\n",
      "1\n",
      "2\n"
     ]
    }
   ],
   "source": [
    "for X in range(0,3):\n",
    "    print(X)"
   ]
  },
  {
   "cell_type": "code",
   "execution_count": 8,
   "metadata": {},
   "outputs": [
    {
     "name": "stdout",
     "output_type": "stream",
     "text": [
      "Valor de la variable4\n",
      "Valor de la variable5\n",
      "Valor de la variable6\n",
      "Valor de la variable7\n"
     ]
    }
   ],
   "source": [
    "for X in range(4,8):\n",
    "    print(f'Valor de la variable{X}')"
   ]
  },
  {
   "cell_type": "code",
   "execution_count": 10,
   "metadata": {},
   "outputs": [
    {
     "name": "stdout",
     "output_type": "stream",
     "text": [
      "M\n",
      "a\n",
      "n\n",
      "z\n",
      "a\n",
      "n\n",
      "a\n"
     ]
    }
   ],
   "source": [
    "for X in 'Manzana':\n",
    "    print(X)"
   ]
  },
  {
   "cell_type": "code",
   "execution_count": 11,
   "metadata": {},
   "outputs": [
    {
     "name": "stdout",
     "output_type": "stream",
     "text": [
      "La variable b es menor que a\n"
     ]
    }
   ],
   "source": [
    "a = 300\n",
    "b = 42\n",
    "if b<a:\n",
    "    print('La variable b es menor que a')\n",
    "else:\n",
    "    print('La variable b es mayor que a')\n",
    " \n"
   ]
  },
  {
   "cell_type": "code",
   "execution_count": 12,
   "metadata": {},
   "outputs": [
    {
     "name": "stdout",
     "output_type": "stream",
     "text": [
      "las variables son diferentes\n"
     ]
    }
   ],
   "source": [
    "x = 'mama'\n",
    "y = 'mamá'\n",
    "if x==y:\n",
    "    print('las variables son iguales')\n",
    "else: \n",
    "    print('las variables son diferentes')"
   ]
  },
  {
   "cell_type": "code",
   "execution_count": 13,
   "metadata": {},
   "outputs": [
    {
     "name": "stdout",
     "output_type": "stream",
     "text": [
      "la variaqble a es igual a b\n"
     ]
    }
   ],
   "source": [
    "a = 300\n",
    "b = 300\n",
    "if b<a:\n",
    "    print('La variable b es menor que a')\n",
    "elif b==a:\n",
    "    print('la variaqble a es igual a b')\n",
    "else:\n",
    "    print('La variable b es mayor que a')"
   ]
  },
  {
   "cell_type": "markdown",
   "metadata": {},
   "source": [
    "# CICLO WHILE \n"
   ]
  },
  {
   "cell_type": "code",
   "execution_count": 16,
   "metadata": {},
   "outputs": [
    {
     "name": "stdout",
     "output_type": "stream",
     "text": [
      "1\n",
      "2\n",
      "3\n",
      "4\n",
      "5\n"
     ]
    }
   ],
   "source": [
    "i=1\n",
    "while i<6:\n",
    "    print(i) # imprime los elementos menore que seis y los va sumando de uni en uno hasta cumplir la conc¿dicion \n",
    "    \n",
    "    i = i+1\n"
   ]
  }
 ],
 "metadata": {
  "kernelspec": {
   "display_name": "Python 3",
   "language": "python",
   "name": "python3"
  },
  "language_info": {
   "codemirror_mode": {
    "name": "ipython",
    "version": 3
   },
   "file_extension": ".py",
   "mimetype": "text/x-python",
   "name": "python",
   "nbconvert_exporter": "python",
   "pygments_lexer": "ipython3",
   "version": "3.12.5"
  }
 },
 "nbformat": 4,
 "nbformat_minor": 2
}
