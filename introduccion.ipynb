{
 "cells": [
  {
   "cell_type": "markdown",
   "metadata": {},
   "source": [
    "# INTRODUCCIÓN A PYTHON 12/08/2024"
   ]
  },
  {
   "cell_type": "code",
   "execution_count": 1,
   "metadata": {},
   "outputs": [
    {
     "name": "stdout",
     "output_type": "stream",
     "text": [
      "Hola mundo\n"
     ]
    }
   ],
   "source": [
    "print('Hola mundo') ## imprime el mensaje "
   ]
  },
  {
   "cell_type": "code",
   "execution_count": 2,
   "metadata": {},
   "outputs": [
    {
     "name": "stdout",
     "output_type": "stream",
     "text": [
      "valor 5+5\n",
      "El valor es de:14.0\n",
      "10\n"
     ]
    }
   ],
   "source": [
    "5+5\n",
    "print('valor 5+5')\n",
    "print(f'El valor es de:{5*(2.5+3.1)/2}')\n",
    "x = 5*2\n",
    "print(x)"
   ]
  },
  {
   "cell_type": "markdown",
   "metadata": {},
   "source": [
    "# OTRAS OPERACIONES "
   ]
  },
  {
   "cell_type": "code",
   "execution_count": 4,
   "metadata": {},
   "outputs": [
    {
     "name": "stdout",
     "output_type": "stream",
     "text": [
      "8.0\n",
      "El valor de la variable B es gual:8.0\n"
     ]
    }
   ],
   "source": [
    "2**3\n",
    "B = (2**3+4**2)/3\n",
    "print(B)\n",
    "print(f'El valor de la variable B es gual:{B}')\n"
   ]
  },
  {
   "cell_type": "markdown",
   "metadata": {},
   "source": [
    "# GUARDAR TEXTO EN VARIABLES \n"
   ]
  },
  {
   "cell_type": "code",
   "execution_count": 7,
   "metadata": {},
   "outputs": [
    {
     "name": "stdout",
     "output_type": "stream",
     "text": [
      "casa amarillo\n"
     ]
    }
   ],
   "source": [
    "x = 'casa'\n",
    "y = 'amarillo'\n",
    "e = ' '\n",
    "z = x+e+y\n",
    "print(z)\n"
   ]
  },
  {
   "cell_type": "markdown",
   "metadata": {},
   "source": [
    "# INGRESO DE VALORES POR TECLADO "
   ]
  },
  {
   "cell_type": "code",
   "execution_count": 2,
   "metadata": {},
   "outputs": [
    {
     "name": "stdout",
     "output_type": "stream",
     "text": [
      "<class 'float'>\n",
      "13.517299704613635\n"
     ]
    }
   ],
   "source": [
    "x = float(input('ingrese valor'))\n",
    "g = 3.9\n",
    "z = ((x**2)+(g**2))/(x)**(1/2)\n",
    "print(type(g))\n",
    "print(z)"
   ]
  },
  {
   "cell_type": "code",
   "execution_count": 6,
   "metadata": {},
   "outputs": [
    {
     "name": "stdout",
     "output_type": "stream",
     "text": [
      "['a', 'c']\n"
     ]
    }
   ],
   "source": [
    "x = ['a','b','c','d']\n",
    "x.pop(-1) # elimina el primer elemento de derecha a izquierda\n",
    "x.remove('b') # remueve el elemento puesto en remove \n",
    "print(x)"
   ]
  },
  {
   "cell_type": "markdown",
   "metadata": {},
   "source": [
    "# ESTRUCTURAS DE CONTROL "
   ]
  },
  {
   "cell_type": "code",
   "execution_count": 7,
   "metadata": {},
   "outputs": [
    {
     "name": "stdout",
     "output_type": "stream",
     "text": [
      "0\n",
      "1\n",
      "2\n"
     ]
    }
   ],
   "source": [
    "for X in range(0,3):\n",
    "    print(X)"
   ]
  },
  {
   "cell_type": "code",
   "execution_count": 8,
   "metadata": {},
   "outputs": [
    {
     "name": "stdout",
     "output_type": "stream",
     "text": [
      "Valor de la variable4\n",
      "Valor de la variable5\n",
      "Valor de la variable6\n",
      "Valor de la variable7\n"
     ]
    }
   ],
   "source": [
    "for X in range(4,8):\n",
    "    print(f'Valor de la variable{X}')"
   ]
  },
  {
   "cell_type": "code",
   "execution_count": 10,
   "metadata": {},
   "outputs": [
    {
     "name": "stdout",
     "output_type": "stream",
     "text": [
      "M\n",
      "a\n",
      "n\n",
      "z\n",
      "a\n",
      "n\n",
      "a\n"
     ]
    }
   ],
   "source": [
    "for X in 'Manzana':\n",
    "    print(X)"
   ]
  },
  {
   "cell_type": "code",
   "execution_count": 11,
   "metadata": {},
   "outputs": [
    {
     "name": "stdout",
     "output_type": "stream",
     "text": [
      "La variable b es menor que a\n"
     ]
    }
   ],
   "source": [
    "a = 300\n",
    "b = 42\n",
    "if b<a:\n",
    "    print('La variable b es menor que a')\n",
    "else:\n",
    "    print('La variable b es mayor que a')\n",
    " \n"
   ]
  },
  {
   "cell_type": "code",
   "execution_count": 12,
   "metadata": {},
   "outputs": [
    {
     "name": "stdout",
     "output_type": "stream",
     "text": [
      "las variables son diferentes\n"
     ]
    }
   ],
   "source": [
    "x = 'mama'\n",
    "y = 'mamá'\n",
    "if x==y:\n",
    "    print('las variables son iguales')\n",
    "else: \n",
    "    print('las variables son diferentes')"
   ]
  },
  {
   "cell_type": "code",
   "execution_count": 13,
   "metadata": {},
   "outputs": [
    {
     "name": "stdout",
     "output_type": "stream",
     "text": [
      "la variaqble a es igual a b\n"
     ]
    }
   ],
   "source": [
    "a = 300\n",
    "b = 300\n",
    "if b<a:\n",
    "    print('La variable b es menor que a')\n",
    "elif b==a:\n",
    "    print('la variaqble a es igual a b')\n",
    "else:\n",
    "    print('La variable b es mayor que a')"
   ]
  },
  {
   "cell_type": "markdown",
   "metadata": {},
   "source": [
    "# CICLO WHILE \n"
   ]
  },
  {
   "cell_type": "code",
   "execution_count": 16,
   "metadata": {},
   "outputs": [
    {
     "name": "stdout",
     "output_type": "stream",
     "text": [
      "1\n",
      "2\n",
      "3\n",
      "4\n",
      "5\n"
     ]
    }
   ],
   "source": [
    "i=1\n",
    "while i<6:\n",
    "    print(i) # imprime los elementos menore que seis y los va sumando de uni en uno hasta cumplir la conc¿dicion \n",
    "    i = i+1\n"
   ]
  },
  {
   "cell_type": "markdown",
   "metadata": {},
   "source": [
    "# COMBINACIÓN DE ESTRUCTURAS "
   ]
  },
  {
   "cell_type": "code",
   "execution_count": 26,
   "metadata": {},
   "outputs": [
    {
     "name": "stdout",
     "output_type": "stream",
     "text": [
      "1\n",
      "2\n",
      "3\n",
      "llegue al tres\n",
      "4\n",
      "5\n",
      "6\n",
      "7\n",
      "8\n",
      "9\n"
     ]
    }
   ],
   "source": [
    "i=1\n",
    "while i<10:\n",
    "    print(i)\n",
    "    if i == 3:\n",
    "        print('llegue al tres')\n",
    "    i = i+1\n"
   ]
  },
  {
   "cell_type": "code",
   "execution_count": 6,
   "metadata": {},
   "outputs": [
    {
     "name": "stdout",
     "output_type": "stream",
     "text": [
      "5.0\n",
      "5.0\n",
      "5.0\n",
      "5.0\n",
      "5.0\n",
      "5.0\n",
      "5.0\n",
      "5.0\n",
      "5.0\n",
      "5.0\n",
      "5.0\n",
      "5.0\n",
      "5.0\n",
      "5.0\n",
      "5.0\n",
      "5.0\n",
      "5.0\n",
      "5.0\n",
      "5.0\n",
      "5.0\n"
     ]
    }
   ],
   "source": [
    "x = float(input('Valor x:'))\n",
    "y = float(input('Valor y:'))\n",
    "\n",
    "for i in range (20):\n",
    "    if (x>4 and y<10):\n",
    "        print(x)\n",
    "\n"
   ]
  },
  {
   "cell_type": "code",
   "execution_count": 14,
   "metadata": {},
   "outputs": [
    {
     "name": "stdout",
     "output_type": "stream",
     "text": [
      "2\n",
      "4\n",
      "5\n",
      "6\n",
      "1\n",
      "2\n",
      "3\n",
      "4\n",
      "5\n",
      "i no es menor que 6\n",
      "5\n",
      "8\n",
      "11\n",
      "14\n",
      "17\n",
      "20\n",
      "23\n",
      "26\n",
      "29\n",
      "0\n",
      "1\n",
      "2\n",
      "3\n",
      "4\n",
      "5\n",
      "¡Terminó!\n",
      "manzana roja\n",
      "manzana grande\n",
      "manzana rica\n",
      "uva roja\n",
      "uva grande\n",
      "uva rica\n",
      "fresa roja\n",
      "fresa grande\n",
      "fresa rica\n",
      "5 es mayor que 4\n",
      "5\n",
      "6\n",
      "7\n",
      "8\n",
      "9\n"
     ]
    }
   ],
   "source": [
    "i=1\n",
    "while i<6:\n",
    "  if i==3:\n",
    "    break\n",
    "  i+=1\n",
    "\n",
    "i=1\n",
    "while i<6:\n",
    "  i+=1\n",
    "  if i==3:\n",
    "    continue\n",
    "  print(i)\n",
    "\n",
    "i=1\n",
    "while i<6:\n",
    "  print(i)\n",
    "  i+=1\n",
    "else:\n",
    "  print(\"i no es menor que 6\")\n",
    "\n",
    "for x in range(5, 30, 3):\n",
    "  print(x)\n",
    "\n",
    "for x in range (6):\n",
    "  print(x)\n",
    "else:\n",
    "  print(\"¡Terminó!\")\n",
    "\n",
    "característica= [\"roja\",\"grande\",\"rica\"]\n",
    "fruta=[\"manzana\",\"uva\", \"fresa\"]\n",
    "for x in fruta:\n",
    "  for y in característica:\n",
    "    print(x,y)\n",
    "\n",
    "x=int(input(\"Ingrese un número \\n\"))\n",
    "y=int(input(\"Ingrese otro número \\n\"))\n",
    "if x>y:\n",
    "  print(x,\"es mayor que\",y)\n",
    "else:\n",
    "  print(y,\"es mayor que\",x)\n",
    "\n",
    "for x in range(20):\n",
    "  if( x>4 and x<10):\n",
    "    print(x)\n",
    "\n",
    "for x in range(20):\n",
    "  if( x<4 and x>10):\n",
    "    print(x)"
   ]
  },
  {
   "cell_type": "markdown",
   "metadata": {},
   "source": [
    "# MIS PRIMERAS GRÁFICAS "
   ]
  },
  {
   "cell_type": "code",
   "execution_count": 7,
   "metadata": {},
   "outputs": [
    {
     "name": "stdout",
     "output_type": "stream",
     "text": [
      "Requirement already satisfied: matplotlib in c:\\users\\pedro miguel\\appdata\\local\\programs\\python\\python312\\lib\\site-packages (3.9.2)\n",
      "Requirement already satisfied: contourpy>=1.0.1 in c:\\users\\pedro miguel\\appdata\\local\\programs\\python\\python312\\lib\\site-packages (from matplotlib) (1.2.1)\n",
      "Requirement already satisfied: cycler>=0.10 in c:\\users\\pedro miguel\\appdata\\local\\programs\\python\\python312\\lib\\site-packages (from matplotlib) (0.12.1)\n",
      "Requirement already satisfied: fonttools>=4.22.0 in c:\\users\\pedro miguel\\appdata\\local\\programs\\python\\python312\\lib\\site-packages (from matplotlib) (4.51.0)\n",
      "Requirement already satisfied: kiwisolver>=1.3.1 in c:\\users\\pedro miguel\\appdata\\local\\programs\\python\\python312\\lib\\site-packages (from matplotlib) (1.4.5)\n",
      "Requirement already satisfied: numpy>=1.23 in c:\\users\\pedro miguel\\appdata\\local\\programs\\python\\python312\\lib\\site-packages (from matplotlib) (1.26.4)\n",
      "Requirement already satisfied: packaging>=20.0 in c:\\users\\pedro miguel\\appdata\\local\\programs\\python\\python312\\lib\\site-packages (from matplotlib) (24.0)\n",
      "Requirement already satisfied: pillow>=8 in c:\\users\\pedro miguel\\appdata\\local\\programs\\python\\python312\\lib\\site-packages (from matplotlib) (10.3.0)\n",
      "Requirement already satisfied: pyparsing>=2.3.1 in c:\\users\\pedro miguel\\appdata\\local\\programs\\python\\python312\\lib\\site-packages (from matplotlib) (3.1.2)\n",
      "Requirement already satisfied: python-dateutil>=2.7 in c:\\users\\pedro miguel\\appdata\\local\\programs\\python\\python312\\lib\\site-packages (from matplotlib) (2.9.0.post0)\n",
      "Requirement already satisfied: six>=1.5 in c:\\users\\pedro miguel\\appdata\\local\\programs\\python\\python312\\lib\\site-packages (from python-dateutil>=2.7->matplotlib) (1.16.0)\n",
      "Note: you may need to restart the kernel to use updated packages.\n"
     ]
    }
   ],
   "source": [
    "pip install matplotlib"
   ]
  },
  {
   "cell_type": "code",
   "execution_count": 8,
   "metadata": {},
   "outputs": [],
   "source": [
    "import matplotlib"
   ]
  },
  {
   "cell_type": "code",
   "execution_count": 10,
   "metadata": {},
   "outputs": [
    {
     "data": {
      "image/png": "[encoded data removed]",
      "text/plain": [
       "<Figure size 200x200 with 1 Axes>"
      ]
     },
     "metadata": {},
     "output_type": "display_data"
    }
   ],
   "source": [
    "import matplotlib.pyplot as plt\n",
    "\n",
    "plt.style.use('_mpl-gallery')\n",
    "\n",
    "x = [1, 2, 3, 4, 5, 6, 7,8]\n",
    "\n",
    "y = [4.8, 5.5, 3.5, 4.6, 6.5, 6.6, 2.6, 3]\n",
    "\n",
    "fig, ax = plt.subplots()\n",
    "\n",
    "ax.bar(x, y, width=1, edgecolor=\"white\", linewidth=0.7) # varia grosor de las barras espacios de la cuadricula \n",
    "\n",
    "plt.show()\n"
   ]
  },
  {
   "cell_type": "code",
   "execution_count": 11,
   "metadata": {},
   "outputs": [
    {
     "data": {
      "text/plain": [
       "[<matplotlib.lines.Line2D at 0x1d75e4ea3c0>]"
      ]
     },
     "execution_count": 11,
     "metadata": {},
     "output_type": "execute_result"
    },
    {
     "data": {
      "image/png": "[encoded data removed]",
      "text/plain": [
       "<Figure size 200x200 with 1 Axes>"
      ]
     },
     "metadata": {},
     "output_type": "display_data"
    }
   ],
   "source": [
    "plt.plot([1, 2, 3, 4, 5, 6, 7,8], [4.8, 5.5, 3.5, 4.6, 6.5, 6.6, 2.6, 3])"
   ]
  },
  {
   "cell_type": "code",
   "execution_count": 13,
   "metadata": {},
   "outputs": [
    {
     "data": {
      "text/plain": [
       "[<matplotlib.lines.Line2D at 0x1d75cceaf30>]"
      ]
     },
     "execution_count": 13,
     "metadata": {},
     "output_type": "execute_result"
    },
    {
     "data": {
      "image/png": "[encoded data removed]",
      "text/plain": [
       "<Figure size 200x200 with 1 Axes>"
      ]
     },
     "metadata": {},
     "output_type": "display_data"
    }
   ],
   "source": [
    "plt.plot([1, 2, 3, 4, 5, 6, 7,8], [4.8, 5.5, 3.5, 4.6, 6.5, 6.6, 2.6, 3],\"co\") #pinta puntos "
   ]
  },
  {
   "cell_type": "code",
   "execution_count": 18,
   "metadata": {},
   "outputs": [
    {
     "data": {
      "text/plain": [
       "Text(0.5, 0.98, 'Varias gráficas')"
      ]
     },
     "execution_count": 18,
     "metadata": {},
     "output_type": "execute_result"
    },
    {
     "data": {
      "image/png": "[encoded data removed]",
      "text/plain": [
       "<Figure size 200x200 with 1 Axes>"
      ]
     },
     "metadata": {},
     "output_type": "display_data"
    },
    {
     "data": {
      "image/png": "[encoded data removed]",
      "text/plain": [
       "<Figure size 1500x300 with 3 Axes>"
      ]
     },
     "metadata": {},
     "output_type": "display_data"
    }
   ],
   "source": [
    "import matplotlib.pyplot as plt\n",
    "plt.plot([1,2,3,4,5],[3,5,8,9,2])\n",
    "\n",
    "plt.plot([1,2,3,4,5],[3,5,8,9,2],'wo')\n",
    "\n",
    "import matplotlib.pyplot as plt\n",
    "plt.plot\n",
    "\n",
    "x=[1,2,3,4,5,6,7,8,9,10]\n",
    "y=[1,4,9,16,25,24,23,22,21,20]\n",
    "plt.plot(x,y)\n",
    "\n",
    "plt.plot(x,y,'--')\n",
    "\n",
    "\n",
    "plt.plot(x,y,linewidth=10)\n",
    "\n",
    "plt.plot(x,y)\n",
    "plt.ylabel('Eje vertical')\n",
    "plt.xlabel('Eje horizontal')\n",
    "plt.title('Gráfica')\n",
    "\n",
    "plt.scatter(x,y)\n",
    "plt.grid(True)\n",
    "\n",
    "grupos= ['Grupo a','Grupo b', 'Grupo c','Grupo d']\n",
    "valores= [15,40,100,53]\n",
    "plt.bar(grupos,valores)\n",
    "\n",
    "plt.figure(figsize=(15,3))\n",
    "plt.subplot(131)\n",
    "plt.bar(grupos,valores)\n",
    "plt.subplot(132)\n",
    "plt.scatter(grupos,valores)\n",
    "plt.subplot(133)\n",
    "plt.plot(grupos,valores)\n",
    "plt.suptitle('Varias gráficas')"
   ]
  },
  {
   "cell_type": "code",
   "execution_count": 19,
   "metadata": {},
   "outputs": [
    {
     "name": "stdout",
     "output_type": "stream",
     "text": [
      "[0.  0.1 0.2 0.3 0.4 0.5 0.6 0.7 0.8 0.9 1.  1.1 1.2 1.3 1.4 1.5 1.6 1.7\n",
      " 1.8 1.9 2.  2.1 2.2 2.3 2.4 2.5 2.6 2.7 2.8 2.9 3.  3.1 3.2 3.3 3.4 3.5\n",
      " 3.6 3.7 3.8 3.9 4.  4.1 4.2 4.3 4.4 4.5 4.6 4.7 4.8 4.9]\n",
      "[0.16157802 0.24535834 0.89577011 0.73967599 0.21335737 0.15263665\n",
      " 0.07766508 0.47202739 0.70468553 0.22228092 0.39695098 0.95564028\n",
      " 0.95301498 0.45616069 0.78491579 0.84333973 0.72646807 0.48844334\n",
      " 0.79276182 0.1803506  0.05617288 0.16974586 0.31346253 0.54723035\n",
      " 0.72156297 0.14983363 0.70056917 0.25481712 0.26629529 0.60118427\n",
      " 0.45289256 0.80327364 0.34196783 0.04749827 0.73056577 0.21103871\n",
      " 0.87624114 0.24199977 0.17177792 0.80695499 0.5161228  0.42075912\n",
      " 0.99049125 0.18875612 0.00802899 0.65782051 0.71588681 0.39107251\n",
      " 0.75758085 0.41522805]\n",
      "[0.83383362 0.62840893 0.30330601 ... 0.76722071 0.98983112 0.27789786]\n",
      "[-0.06228502 -0.31704284  0.57054793 ...  0.82385724 -1.33460901\n",
      "  0.9769878 ]\n"
     ]
    },
    {
     "data": {
      "text/plain": [
       "[<matplotlib.lines.Line2D at 0x1d761e01fa0>,\n",
       " <matplotlib.lines.Line2D at 0x1d761e016a0>]"
      ]
     },
     "execution_count": 19,
     "metadata": {},
     "output_type": "execute_result"
    },
    {
     "data": {
      "image/png": "[encoded data removed]",
      "text/plain": [
       "<Figure size 200x200 with 1 Axes>"
      ]
     },
     "metadata": {},
     "output_type": "display_data"
    }
   ],
   "source": [
    "import numpy as np\n",
    "t=np.arange(0,5,0.1)\n",
    "plt.plot(t,t**2)\n",
    "print(t)\n",
    "\n",
    "plt.plot(t,t,'r-',t,t**2,'bs',t,t**3,'g^')\n",
    "\n",
    "x=np.random.rand(50)\n",
    "print(x)\n",
    "\n",
    "x=np.random.rand(2000)\n",
    "print(x)\n",
    "\n",
    "x=np.random.randn(2000)\n",
    "print(x)\n",
    "\n",
    "x=np.random.randint(10,20,50)\n",
    "plt.plot(x)\n",
    "\n",
    "t1=np.arange(0,2*np.pi,0.1)\n",
    "plt.plot(t1,np.sin(t1),t1,np.cos(t1))\n",
    "\n",
    "t1=np.arange(0,2*np.pi,0.1)\n",
    "t2=np.arange(0,2*np.pi,0.2)\n",
    "plt.plot(t1,np.cos(2*np.pi*t1)*np.exp(-t1),'r',t2,np.cos(2*np.pi*t2)*np.exp(-t2),'bo')"
   ]
  },
  {
   "cell_type": "markdown",
   "metadata": {},
   "source": [
    "# Numpy"
   ]
  },
  {
   "cell_type": "code",
   "execution_count": 20,
   "metadata": {},
   "outputs": [],
   "source": [
    "import numpy as np"
   ]
  },
  {
   "cell_type": "code",
   "execution_count": 22,
   "metadata": {},
   "outputs": [
    {
     "name": "stdout",
     "output_type": "stream",
     "text": [
      "[0.  0.1 0.2 0.3 0.4 0.5 0.6 0.7 0.8 0.9 1.  1.1 1.2 1.3 1.4 1.5 1.6 1.7\n",
      " 1.8 1.9 2.  2.1 2.2 2.3 2.4 2.5 2.6 2.7 2.8 2.9 3.  3.1 3.2 3.3 3.4 3.5\n",
      " 3.6 3.7 3.8 3.9 4.  4.1 4.2 4.3 4.4 4.5 4.6 4.7 4.8 4.9]\n"
     ]
    },
    {
     "data": {
      "image/png": "[encoded data removed]",
      "text/plain": [
       "<Figure size 200x200 with 1 Axes>"
      ]
     },
     "metadata": {},
     "output_type": "display_data"
    }
   ],
   "source": [
    "t = np.arange(0,5,0.1)\n",
    "plt.plot(t,t**2)\n",
    "print(t)"
   ]
  },
  {
   "cell_type": "code",
   "execution_count": 24,
   "metadata": {},
   "outputs": [
    {
     "data": {
      "text/plain": [
       "[<matplotlib.lines.Line2D at 0x1d7624624e0>,\n",
       " <matplotlib.lines.Line2D at 0x1d762466ea0>,\n",
       " <matplotlib.lines.Line2D at 0x1d762466b70>]"
      ]
     },
     "execution_count": 24,
     "metadata": {},
     "output_type": "execute_result"
    },
    {
     "data": {
      "image/png": "[encoded data removed]",
      "text/plain": [
       "<Figure size 200x200 with 1 Axes>"
      ]
     },
     "metadata": {},
     "output_type": "display_data"
    }
   ],
   "source": [
    "plt.plot(t, t, 'r-',t, t**2,'bs',t,t**3,'g')"
   ]
  },
  {
   "cell_type": "code",
   "execution_count": 25,
   "metadata": {},
   "outputs": [
    {
     "name": "stdout",
     "output_type": "stream",
     "text": [
      "[0.37368092 0.20077383 0.3512579  0.01567033 0.27556743 0.73411022\n",
      " 0.29473355 0.97829488 0.93553309 0.56203663 0.65186304 0.38320475\n",
      " 0.81198779 0.41889409 0.38569169 0.31390539 0.00716735 0.77435625\n",
      " 0.10493589 0.41635415 0.45689151 0.84894794 0.05357642 0.50869075\n",
      " 0.20939484 0.46261623 0.12257688 0.98463952 0.72636    0.29981531\n",
      " 0.97958227 0.30549333 0.39361454 0.53680636 0.97629576 0.23083009\n",
      " 0.87713181 0.88228027 0.3722874  0.45218465 0.09500853 0.55510763\n",
      " 0.51939063 0.33261994 0.25777867 0.9400515  0.8514598  0.54029534\n",
      " 0.63289515 0.70833391]\n"
     ]
    }
   ],
   "source": [
    "x = np.random.rand(50) # 50 nunmeros aleatorios con distribucion entre 0 y 1\n",
    "print(x)\n"
   ]
  },
  {
   "cell_type": "code",
   "execution_count": 26,
   "metadata": {},
   "outputs": [
    {
     "name": "stdout",
     "output_type": "stream",
     "text": [
      "[0.76526958 0.4728345  0.62762176 0.81957577 0.52342591 0.01736956\n",
      " 0.87589761 0.85701238 0.55101736 0.95249156 0.80645038 0.42115716\n",
      " 0.05923534 0.07103312 0.31197902 0.04149944 0.24344663 0.29328326\n",
      " 0.38823996 0.69957119 0.75378767 0.40814515 0.75810322 0.31721107\n",
      " 0.09157211 0.64491847 0.48679251 0.19090589 0.93979938 0.39719371\n",
      " 0.6025781  0.88406708 0.66396336 0.12907307 0.7422508  0.41627949\n",
      " 0.30445684 0.92689325 0.31139684 0.35313913 0.87638919 0.42484934\n",
      " 0.93968823 0.10234986 0.56208166 0.91651055 0.9600456  0.37381295\n",
      " 0.84030927 0.73143625 0.03838302 0.52723681 0.52888455 0.58956885\n",
      " 0.94453374 0.35032989 0.68436919 0.45995075 0.30254674 0.40135092\n",
      " 0.74240188 0.36883257 0.36047523 0.44728456 0.66020229 0.59517312\n",
      " 0.8039975  0.71151699 0.37268701 0.45643808 0.9093764  0.04438456\n",
      " 0.30166804 0.55658836 0.97401635 0.49665602 0.14518734 0.75364475\n",
      " 0.62635508 0.53142442 0.67281951 0.08359465 0.66486109 0.22796034\n",
      " 0.43786813 0.44211215 0.66022907 0.65137456 0.36879269 0.55340063\n",
      " 0.3911768  0.0536392  0.6452489  0.1617007  0.3789111  0.00401378\n",
      " 0.36777728 0.37745406 0.26563154 0.04657012 0.97475131 0.21911461\n",
      " 0.28903844 0.34757292 0.4593905  0.94899177 0.42677883 0.42518865\n",
      " 0.70055497 0.2720978  0.36893125 0.57841562 0.30043014 0.14302963\n",
      " 0.21917611 0.62404729 0.6353995  0.54587033 0.24437665 0.0942359\n",
      " 0.33900754 0.72978547 0.7447086  0.16694567 0.68610999 0.79631836\n",
      " 0.63451777 0.06840369 0.9624981  0.50751439 0.9200031  0.60332775\n",
      " 0.66576987 0.04439625 0.9177971  0.48838286 0.62206218 0.94295023\n",
      " 0.67845017 0.40303059 0.23352242 0.60750951 0.06510074 0.30729112\n",
      " 0.93566111 0.15805044 0.01535202 0.38086885 0.70254367 0.60783356\n",
      " 0.16832923 0.29061205 0.37902113 0.9309411  0.60844662 0.29232415\n",
      " 0.80891242 0.77882784 0.68103153 0.63738353 0.49309187 0.72326236\n",
      " 0.53640454 0.02122002 0.06569112 0.9999033  0.7462071  0.56060012\n",
      " 0.6800948  0.94511035 0.65912649 0.15751744 0.08537821 0.82541032\n",
      " 0.49171476 0.46836767 0.7176338  0.37340414 0.79968495 0.13525348\n",
      " 0.60906195 0.28345529 0.93530365 0.36311516 0.52247461 0.04225078\n",
      " 0.00283938 0.25632648 0.00782494 0.83993709 0.18336173 0.80174673\n",
      " 0.8259747  0.2616282  0.36062163 0.63631257 0.04603914 0.84014351\n",
      " 0.41217344 0.61033264]\n"
     ]
    }
   ],
   "source": [
    "x = np.random.rand(200)\n",
    "print(x)"
   ]
  },
  {
   "cell_type": "code",
   "execution_count": 29,
   "metadata": {},
   "outputs": [
    {
     "data": {
      "text/plain": [
       "[<matplotlib.lines.Line2D at 0x1d7612a0d40>]"
      ]
     },
     "execution_count": 29,
     "metadata": {},
     "output_type": "execute_result"
    },
    {
     "data": {
      "image/png": "[encoded data removed]",
      "text/plain": [
       "<Figure size 200x200 with 1 Axes>"
      ]
     },
     "metadata": {},
     "output_type": "display_data"
    }
   ],
   "source": [
    "x = np.random.randint(10,20,50)\n",
    "plt.plot(x)"
   ]
  },
  {
   "cell_type": "code",
   "execution_count": 30,
   "metadata": {},
   "outputs": [
    {
     "data": {
      "text/plain": [
       "[<matplotlib.lines.Line2D at 0x1d7612a1040>,\n",
       " <matplotlib.lines.Line2D at 0x1d7612a0680>]"
      ]
     },
     "execution_count": 30,
     "metadata": {},
     "output_type": "execute_result"
    },
    {
     "data": {
      "image/png": "[encoded data removed]",
      "text/plain": [
       "<Figure size 200x200 with 1 Axes>"
      ]
     },
     "metadata": {},
     "output_type": "display_data"
    }
   ],
   "source": [
    "t1 = np.arange(0,2*np.pi,0.1)\n",
    "plt.plot(t1,np.sin(t1),t1,np.cos(t1))"
   ]
  },
  {
   "cell_type": "code",
   "execution_count": 32,
   "metadata": {},
   "outputs": [
    {
     "data": {
      "text/plain": [
       "[<matplotlib.lines.Line2D at 0x1d75e502f90>,\n",
       " <matplotlib.lines.Line2D at 0x1d75e503230>]"
      ]
     },
     "execution_count": 32,
     "metadata": {},
     "output_type": "execute_result"
    },
    {
     "data": {
      "image/png": "[encoded data removed]",
      "text/plain": [
       "<Figure size 200x200 with 1 Axes>"
      ]
     },
     "metadata": {},
     "output_type": "display_data"
    }
   ],
   "source": [
    "t1 = np.arange(0,2*np.pi,0.1)\n",
    "t2 = np.arange(0,2*np.pi,0.2)\n",
    "plt.plot(t1,np.cos(2*np.pi*t1)*np.exp(-t1),'r',t2,np.cos(2*np.pi*t2)*np.exp(-t2),'bo')"
   ]
  }
 ],
 "metadata": {
  "kernelspec": {
   "display_name": "Python 3",
   "language": "python",
   "name": "python3"
  },
  "language_info": {
   "codemirror_mode": {
    "name": "ipython",
    "version": 3
   },
   "file_extension": ".py",
   "mimetype": "text/x-python",
   "name": "python",
   "nbconvert_exporter": "python",
   "pygments_lexer": "ipython3",
   "version": "3.12.5"
  }
 },
 "nbformat": 4,
 "nbformat_minor": 2
}
