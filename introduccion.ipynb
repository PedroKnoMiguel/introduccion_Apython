{
 "cells": [
  {
   "cell_type": "markdown",
   "metadata": {},
   "source": [
    "# INTRODUCCIÓN A PYTHON 12/08/2024"
   ]
  },
  {
   "cell_type": "code",
   "execution_count": 1,
   "metadata": {},
   "outputs": [
    {
     "name": "stdout",
     "output_type": "stream",
     "text": [
      "Hola mundo\n"
     ]
    }
   ],
   "source": [
    "print('Hola mundo') ## imprime el mensaje "
   ]
  },
  {
   "cell_type": "code",
   "execution_count": 2,
   "metadata": {},
   "outputs": [
    {
     "name": "stdout",
     "output_type": "stream",
     "text": [
      "valor 5+5\n",
      "El valor es de:14.0\n",
      "10\n"
     ]
    }
   ],
   "source": [
    "5+5\n",
    "print('valor 5+5')\n",
    "print(f'El valor es de:{5*(2.5+3.1)/2}')\n",
    "x = 5*2\n",
    "print(x)"
   ]
  },
  {
   "cell_type": "markdown",
   "metadata": {},
   "source": [
    "# OTRAS OPERACIONES "
   ]
  },
  {
   "cell_type": "code",
   "execution_count": 4,
   "metadata": {},
   "outputs": [
    {
     "name": "stdout",
     "output_type": "stream",
     "text": [
      "8.0\n",
      "El valor de la variable B es gual:8.0\n"
     ]
    }
   ],
   "source": [
    "2**3\n",
    "B = (2**3+4**2)/3\n",
    "print(B)\n",
    "print(f'El valor de la variable B es gual:{B}')\n"
   ]
  },
  {
   "cell_type": "markdown",
   "metadata": {},
   "source": [
    "# GUARDAR TEXTO EN VARIABLES \n"
   ]
  },
  {
   "cell_type": "code",
   "execution_count": 7,
   "metadata": {},
   "outputs": [
    {
     "name": "stdout",
     "output_type": "stream",
     "text": [
      "casa amarillo\n"
     ]
    }
   ],
   "source": [
    "x = 'casa'\n",
    "y = 'amarillo'\n",
    "e = ' '\n",
    "z = x+e+y\n",
    "print(z)\n"
   ]
  },
  {
   "cell_type": "markdown",
   "metadata": {},
   "source": [
    "# INGRESO DE VALORES POR TECLADO "
   ]
  },
  {
   "cell_type": "code",
   "execution_count": 2,
   "metadata": {},
   "outputs": [
    {
     "name": "stdout",
     "output_type": "stream",
     "text": [
      "<class 'float'>\n",
      "13.517299704613635\n"
     ]
    }
   ],
   "source": [
    "x = float(input('ingrese valor'))\n",
    "g = 3.9\n",
    "z = ((x**2)+(g**2))/(x)**(1/2)\n",
    "print(type(g))\n",
    "print(z)"
   ]
  },
  {
   "cell_type": "code",
   "execution_count": 6,
   "metadata": {},
   "outputs": [
    {
     "name": "stdout",
     "output_type": "stream",
     "text": [
      "['a', 'c']\n"
     ]
    }
   ],
   "source": [
    "x = ['a','b','c','d']\n",
    "x.pop(-1) # elimina el primer elemento de derecha a izquierda\n",
    "x.remove('b') # remueve el elemento puesto en remove \n",
    "print(x)"
   ]
  }
 ],
 "metadata": {
  "kernelspec": {
   "display_name": "Python 3",
   "language": "python",
   "name": "python3"
  },
  "language_info": {
   "codemirror_mode": {
    "name": "ipython",
    "version": 3
   },
   "file_extension": ".py",
   "mimetype": "text/x-python",
   "name": "python",
   "nbconvert_exporter": "python",
   "pygments_lexer": "ipython3",
   "version": "3.12.5"
  }
 },
 "nbformat": 4,
 "nbformat_minor": 2
}
